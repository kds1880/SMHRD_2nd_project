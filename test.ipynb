{
 "cells": [
  {
   "cell_type": "code",
   "execution_count": 1,
   "metadata": {},
   "outputs": [
    {
     "name": "stdout",
     "output_type": "stream",
     "text": [
      "Requirement already satisfied: flask in c:\\users\\smhrd\\anaconda3\\lib\\site-packages (1.1.2)\n",
      "Requirement already satisfied: Jinja2>=2.10.1 in c:\\users\\smhrd\\anaconda3\\lib\\site-packages (from flask) (2.11.2)\n",
      "Requirement already satisfied: itsdangerous>=0.24 in c:\\users\\smhrd\\anaconda3\\lib\\site-packages (from flask) (1.1.0)\n",
      "Requirement already satisfied: click>=5.1 in c:\\users\\smhrd\\anaconda3\\lib\\site-packages (from flask) (7.1.2)\n",
      "Requirement already satisfied: Werkzeug>=0.15 in c:\\users\\smhrd\\anaconda3\\lib\\site-packages (from flask) (1.0.1)\n",
      "Requirement already satisfied: MarkupSafe>=0.23 in c:\\users\\smhrd\\anaconda3\\lib\\site-packages (from Jinja2>=2.10.1->flask) (1.1.1)\n"
     ]
    }
   ],
   "source": [
    "!pip install flask"
   ]
  },
  {
   "cell_type": "code",
   "execution_count": 2,
   "metadata": {},
   "outputs": [],
   "source": [
    "\n",
    "import pickle # 데이터 저장/로딩을 위한 모듈\n",
    "import pandas as pd\n",
    "import numpy as np\n",
    "import flask"
   ]
  },
  {
   "cell_type": "code",
   "execution_count": 3,
   "metadata": {},
   "outputs": [],
   "source": [
    "from flask import Flask, redirect, request, Response "
   ]
  },
  {
   "cell_type": "code",
   "execution_count": 9,
   "metadata": {},
   "outputs": [
    {
     "name": "stdout",
     "output_type": "stream",
     "text": [
      " * Serving Flask app \"__main__\" (lazy loading)\n",
      " * Environment: production\n",
      "   WARNING: This is a development server. Do not use it in a production deployment.\n",
      "   Use a production WSGI server instead.\n",
      " * Debug mode: off\n"
     ]
    },
    {
     "name": "stderr",
     "output_type": "stream",
     "text": [
      " * Running on http://localhost:9000/ (Press CTRL+C to quit)\n",
      "127.0.0.1 - - [24/Mar/2021 14:56:15] \"\u001b[37mGET /?callback=jQuery360039296247429925213_1616565369474&1=서구&2=금호2동&_=1616565369476 HTTP/1.1\u001b[0m\" 200 -\n",
      "127.0.0.1 - - [24/Mar/2021 14:57:26] \"\u001b[37mGET /?callback=jQuery360009877847251632299_1616565441249&1=서구&2=금호2동&_=1616565441251 HTTP/1.1\u001b[0m\" 200 -\n",
      "127.0.0.1 - - [24/Mar/2021 14:58:29] \"\u001b[37mGET /?callback=jQuery36006220406291454206_1616565499680&1=서구&2=금호2동&_=1616565499681 HTTP/1.1\u001b[0m\" 200 -\n",
      "127.0.0.1 - - [24/Mar/2021 15:01:41] \"\u001b[37mGET /?callback=jQuery36006220406291454206_1616565499680&1=서구&2=금호2동&_=1616565499682 HTTP/1.1\u001b[0m\" 200 -\n",
      "127.0.0.1 - - [24/Mar/2021 15:04:31] \"\u001b[37mGET /?callback=jQuery360019667326098401117_1616565866017&1=서구&2=금호2동&_=1616565866018 HTTP/1.1\u001b[0m\" 200 -\n",
      "127.0.0.1 - - [24/Mar/2021 15:04:31] \"\u001b[37mGET /?callback=jQuery360019667326098401117_1616565866017&1=서구&2=금호2동&_=1616565866019 HTTP/1.1\u001b[0m\" 200 -\n",
      "127.0.0.1 - - [24/Mar/2021 15:04:36] \"\u001b[37mGET /?callback=jQuery360033181260044748706_1616565874445&1=서구&2=금호2동&_=1616565874446 HTTP/1.1\u001b[0m\" 200 -\n",
      "127.0.0.1 - - [24/Mar/2021 15:05:07] \"\u001b[37mGET /?callback=jQuery36004153628515075043_1616565906443&1=서구&2=금호2동&_=1616565906444 HTTP/1.1\u001b[0m\" 200 -\n",
      "127.0.0.1 - - [24/Mar/2021 15:06:52] \"\u001b[37mGET /?callback=jQuery36008049249359843829_1616566009881&1=서구&2=금호2동&_=1616566009882 HTTP/1.1\u001b[0m\" 200 -\n",
      "127.0.0.1 - - [24/Mar/2021 15:07:15] \"\u001b[37mGET /?1=서구&2=금호2동 HTTP/1.1\u001b[0m\" 200 -\n",
      "127.0.0.1 - - [24/Mar/2021 15:07:22] \"\u001b[37mGET /?1=서구&2=금호2동 HTTP/1.1\u001b[0m\" 200 -\n",
      "127.0.0.1 - - [24/Mar/2021 15:07:39] \"\u001b[37mGET /?1=서구&2=금호2동 HTTP/1.1\u001b[0m\" 200 -\n",
      "127.0.0.1 - - [24/Mar/2021 15:21:51] \"\u001b[37mGET /?1=서구&2=금호2동 HTTP/1.1\u001b[0m\" 200 -\n"
     ]
    }
   ],
   "source": [
    "# 간단한 Flask 서버\n",
    "\n",
    "app = flask.Flask(__name__)\n",
    " \n",
    "@app.route(\"/\", methods=[\"GET\", \"POST\"])\n",
    "def index():\n",
    "    \n",
    "    # 자바에서 값 받아오기\n",
    "    parameter_dict = request.args.to_dict()\n",
    "    address1 = parameter_dict[\"1\"]\n",
    "    address2 = parameter_dict[\"2\"]\n",
    "    \n",
    "    #fix값 변환\n",
    "    adds = address1+\"\\n \"+address2+\"\\n\"+\"aaa\"\n",
    "    \n",
    "    my_res = flask.Response(adds)\n",
    "    \n",
    "    # Access-Control-Allow-Origin추가: '*'는 모든 사이트를 추가한다는 뜻.\n",
    "    my_res.headers[\"Access-Control-Allow-Origin\"] = \"*\"\n",
    "    \n",
    "    \n",
    "    # 결과 전송\n",
    "    return my_res\n",
    " \n",
    "if __name__ == \"__main__\" : # .py 파일에서 main함수 역할\n",
    "    app.run(host=\"localhost\", port=\"9000\")"
   ]
  },
  {
   "cell_type": "code",
   "execution_count": 17,
   "metadata": {},
   "outputs": [],
   "source": [
    "import json"
   ]
  },
  {
   "cell_type": "code",
   "execution_count": 18,
   "metadata": {},
   "outputs": [
    {
     "name": "stdout",
     "output_type": "stream",
     "text": [
      " * Serving Flask app \"__main__\" (lazy loading)\n",
      " * Environment: production\n",
      "   WARNING: This is a development server. Do not use it in a production deployment.\n",
      "   Use a production WSGI server instead.\n",
      " * Debug mode: off\n"
     ]
    },
    {
     "name": "stderr",
     "output_type": "stream",
     "text": [
      " * Running on http://localhost:9000/ (Press CTRL+C to quit)\n",
      "127.0.0.1 - - [24/Mar/2021 15:59:33] \"\u001b[37mGET /?1=서구&2=금호2동 HTTP/1.1\u001b[0m\" 200 -\n",
      "127.0.0.1 - - [24/Mar/2021 16:00:36] \"\u001b[37mGET /?1=서구&2=금호2동 HTTP/1.1\u001b[0m\" 200 -\n",
      "127.0.0.1 - - [24/Mar/2021 16:00:38] \"\u001b[37mGET /?1=서구&2=금호2동 HTTP/1.1\u001b[0m\" 200 -\n"
     ]
    }
   ],
   "source": [
    "# 간단한 Flask 서버\n",
    "\n",
    "app = flask.Flask(__name__)\n",
    " \n",
    "@app.route(\"/\", methods=[\"GET\", \"POST\"])\n",
    "def index():\n",
    "    \n",
    "    # 자바에서 값 받아오기\n",
    "    parameter_dict = request.args.to_dict()\n",
    "    address1 = parameter_dict[\"1\"]\n",
    "    address2 = parameter_dict[\"2\"]\n",
    "    \n",
    "    #fix값 변환\n",
    "    adds = {\"a\":address1,\"b\":address1}\n",
    "    \n",
    "    test_res = jsonify(adds)\n",
    "    \n",
    "    # Access-Control-Allow-Origin추가: '*'는 모든 사이트를 추가한다는 뜻.\n",
    "    my_res.headers[\"Access-Control-Allow-Origin\"] = \"*\"\n",
    "    \n",
    "    \n",
    "    # 결과 전송\n",
    "    return my_res\n",
    " \n",
    "if __name__ == \"__main__\" : # .py 파일에서 main함수 역할\n",
    "    app.run(host=\"localhost\", port=\"9000\")"
   ]
  },
  {
   "cell_type": "code",
   "execution_count": null,
   "metadata": {},
   "outputs": [],
   "source": []
  },
  {
   "cell_type": "code",
   "execution_count": null,
   "metadata": {},
   "outputs": [],
   "source": []
  }
 ],
 "metadata": {
  "kernelspec": {
   "display_name": "Python 3",
   "language": "python",
   "name": "python3"
  },
  "language_info": {
   "codemirror_mode": {
    "name": "ipython",
    "version": 3
   },
   "file_extension": ".py",
   "mimetype": "text/x-python",
   "name": "python",
   "nbconvert_exporter": "python",
   "pygments_lexer": "ipython3",
   "version": "3.8.5"
  }
 },
 "nbformat": 4,
 "nbformat_minor": 4
}
